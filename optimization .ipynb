{
 "cells": [
  {
   "cell_type": "code",
   "execution_count": 3,
   "metadata": {},
   "outputs": [
    {
     "name": "stdout",
     "output_type": "stream",
     "text": [
      "Optimize a model with 3 rows, 3 columns and 5 nonzeros\n",
      "Variable types: 2 continuous, 1 integer (1 binary)\n",
      "Coefficient statistics:\n",
      "  Matrix range     [1e+00, 4e+00]\n",
      "  Objective range  [1e+01, 9e+01]\n",
      "  Bounds range     [1e+00, 1e+00]\n",
      "  RHS range        [3e+01, 6e+01]\n",
      "Found heuristic solution: objective 150.0000000\n",
      "Presolve removed 3 rows and 3 columns\n",
      "Presolve time: 0.01s\n",
      "Presolve: All rows and columns removed\n",
      "\n",
      "Explored 0 nodes (0 simplex iterations) in 0.03 seconds\n",
      "Thread count was 1 (of 4 available processors)\n",
      "\n",
      "Solution count 2: 540 150 \n",
      "\n",
      "Optimal solution found (tolerance 1.00e-04)\n",
      "Best objective 5.400000000000e+02, best bound 5.400000000000e+02, gap 0.0000%\n"
     ]
    }
   ],
   "source": [
    "from gurobipy import Model, GRB\n",
    "mod=Model()\n",
    "X=mod.addVar(lb=0,name='W')         # Defining variable W with lower bound (lb) 0.\n",
    "Y=mod.addVar(lb=0,name='P')\n",
    "M2=mod.addVar(vtype=GRB.BINARY)\n",
    "mod.setObjective(10*X+20*Y-90*M2, sense=GRB.MAXIMIZE)\n",
    "mod.addConstr(4*X+Y<=60)\n",
    "mod.addConstr(2*Y<=48)\n",
    "mod.addConstr(X+Y<=30)\n",
    "mod.optimize()\n"
   ]
  },
  {
   "cell_type": "code",
   "execution_count": 6,
   "metadata": {},
   "outputs": [
    {
     "name": "stdout",
     "output_type": "stream",
     "text": [
      "Optimize a model with 5 rows, 5 columns and 9 nonzeros\n",
      "Variable types: 2 continuous, 3 integer (1 binary)\n",
      "Coefficient statistics:\n",
      "  Matrix range     [1e+00, 1e+01]\n",
      "  Objective range  [1e+01, 9e+01]\n",
      "  Bounds range     [1e+00, 1e+00]\n",
      "  RHS range        [3e+01, 6e+01]\n",
      "Found heuristic solution: objective -0.0000000\n",
      "Presolve removed 5 rows and 5 columns\n",
      "Presolve time: 0.00s\n",
      "Presolve: All rows and columns removed\n",
      "\n",
      "Explored 0 nodes (0 simplex iterations) in 0.02 seconds\n",
      "Thread count was 1 (of 4 available processors)\n",
      "\n",
      "Solution count 2: 500 -0 \n",
      "\n",
      "Optimal solution found (tolerance 1.00e-04)\n",
      "Best objective 5.000000000000e+02, best bound 5.000000000000e+02, gap 0.0000%\n",
      "Optimal objective: 500.0\n",
      "\tX: 10.0\n",
      "\tY: 20.0\n"
     ]
    }
   ],
   "source": [
    "from gurobipy import Model, GRB\n",
    "mod=Model()\n",
    "X=mod.addVar(lb=0,name='W')         # Defining variable W with lower bound (lb) 0.\n",
    "Y=mod.addVar(lb=0,name='P')\n",
    "M2=mod.addVar(vtype=GRB.BINARY)\n",
    "I1=mod.addVar(vtype=GRB.INTEGER)\n",
    "I2=mod.addVar(vtype=GRB.INTEGER)\n",
    "\n",
    "mod.setObjective(10*X+20*Y-90*M2, sense=GRB.MAXIMIZE)\n",
    "mod.addConstr(4*X+Y<=60)\n",
    "mod.addConstr(2*Y<=48)\n",
    "mod.addConstr(X+Y<=30)\n",
    "mod.addConstr(X==10*I1)\n",
    "mod.addConstr(Y==10*I2)\n",
    "mod.optimize()\n",
    "print('Optimal objective:', mod.objval)\n",
    "print('\\tX:',X.x)\n",
    "print('\\tY:',Y.x)"
   ]
  },
  {
   "cell_type": "code",
   "execution_count": 7,
   "metadata": {},
   "outputs": [
    {
     "name": "stdout",
     "output_type": "stream",
     "text": [
      "Optimal objective: 480.0\n",
      "\tX: 0.0\n",
      "\tY: 24.0\n",
      "\tN1: -0.0\n",
      "\tZ1: 0.0\n",
      "\tZ2: 1.0\n"
     ]
    }
   ],
   "source": [
    "from gurobipy import Model, GRB\n",
    "mod=Model()\n",
    "\n",
    "X=mod.addVar(vtype=GRB.INTEGER)\n",
    "Y=mod.addVar(vtype=GRB.INTEGER)\n",
    "N1=mod.addVar(vtype=GRB.INTEGER)\n",
    "Z1=mod.addVar(vtype=GRB.BINARY)\n",
    "Z2=mod.addVar(vtype=GRB.BINARY)\n",
    "\n",
    "mod.setObjective(10*X+20*Y-27*N1-100*Z1,sense=GRB.MAXIMIZE)\n",
    "mod.addConstr(4*X+Y <=60+9*N1)\n",
    "mod.addConstr(2*Y<=48)\n",
    "mod.addConstr(X+Y<=30)\n",
    "mod.addConstr(X<=1000*Z1)\n",
    "\n",
    "mod.addConstr(5*Z2 <= Y )\n",
    "mod.addConstr(Y<=1000*Z2)\n",
    "\n",
    "mod.setParam('outputflag',False)\n",
    "mod.optimize()\n",
    "\n",
    "print('Optimal objective:', mod.objval)\n",
    "print('\\tX:',X.x)\n",
    "print('\\tY:',Y.x)\n",
    "print('\\tN1:',N1.x)\n",
    "print('\\tZ1:',Z1.x)\n",
    "print('\\tZ2:',Z2.x)\n"
   ]
  },
  {
   "cell_type": "code",
   "execution_count": null,
   "metadata": {},
   "outputs": [],
   "source": []
  }
 ],
 "metadata": {
  "kernelspec": {
   "display_name": "Python 3",
   "language": "python",
   "name": "python3"
  },
  "language_info": {
   "codemirror_mode": {
    "name": "ipython",
    "version": 3
   },
   "file_extension": ".py",
   "mimetype": "text/x-python",
   "name": "python",
   "nbconvert_exporter": "python",
   "pygments_lexer": "ipython3",
   "version": "3.7.1"
  }
 },
 "nbformat": 4,
 "nbformat_minor": 2
}
